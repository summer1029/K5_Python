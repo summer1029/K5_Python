{
  "nbformat": 4,
  "nbformat_minor": 0,
  "metadata": {
    "colab": {
      "provenance": []
    },
    "kernelspec": {
      "name": "python3",
      "display_name": "Python 3"
    },
    "language_info": {
      "name": "python"
    }
  },
  "cells": [
    {
      "cell_type": "code",
      "execution_count": null,
      "metadata": {
        "colab": {
          "base_uri": "https://localhost:8080/"
        },
        "id": "Ge-byOaFDE5p",
        "outputId": "a6189baf-ef3c-4672-c8e9-89da9acd74d9"
      },
      "outputs": [
        {
          "output_type": "execute_result",
          "data": {
            "text/plain": [
              "11"
            ]
          },
          "metadata": {},
          "execution_count": 2
        }
      ],
      "source": [
        "# 변수 선언, 사용\n",
        "x = 10\n",
        "x + 1"
      ]
    },
    {
      "cell_type": "markdown",
      "source": [
        "코렙 파이썬 개발 환경입니다.\n",
        "\n",
        "# 1. 제목\n",
        "## 1.1 제목\n",
        "### 1.1.1 제목\n",
        "\n",
        "- 리스트 1\n",
        "- 리스트 2\n",
        "- 리스트 3\n",
        " - 들여쓰기 리스트 (공백 포함)\n",
        "\n",
        "> 인용구문\n",
        "\n",
        "1. 번호 리스트 1\n",
        "2. 번호 리스트 2\n",
        "3. 번호 리스트 3"
      ],
      "metadata": {
        "id": "QcctxtUlDrLv"
      }
    },
    {
      "cell_type": "code",
      "source": [
        "# 주석\n",
        "\n",
        "x = 10 # 여기는 주석입니다\n",
        "\n",
        "'''\n",
        "여기는\n",
        "여러줄\n",
        "주석입니다\n",
        "'''\n",
        "\n",
        "\"\"\"\n",
        "여기도\n",
        "여러줄\n",
        "주석입니다\n",
        "\"\"\""
      ],
      "metadata": {
        "colab": {
          "base_uri": "https://localhost:8080/",
          "height": 36
        },
        "id": "3ndK-DRXE7cP",
        "outputId": "5967cf10-de94-4088-fec2-ff8926e6f58d"
      },
      "execution_count": null,
      "outputs": [
        {
          "output_type": "execute_result",
          "data": {
            "text/plain": [
              "'\\n여기도\\n여러줄\\n주석입니다\\n'"
            ],
            "application/vnd.google.colaboratory.intrinsic+json": {
              "type": "string"
            }
          },
          "metadata": {},
          "execution_count": 3
        }
      ]
    },
    {
      "cell_type": "code",
      "source": [
        "import keyword\n",
        "\n",
        "print(keyword.kwlist)\n",
        "# 키워드는 변수 이름으로 사용 금지"
      ],
      "metadata": {
        "colab": {
          "base_uri": "https://localhost:8080/"
        },
        "id": "z6DcwqRWGNF8",
        "outputId": "2b9dd6cf-ee56-4dc1-b725-e5254b3b7829"
      },
      "execution_count": null,
      "outputs": [
        {
          "output_type": "stream",
          "name": "stdout",
          "text": [
            "['False', 'None', 'True', 'and', 'as', 'assert', 'async', 'await', 'break', 'class', 'continue', 'def', 'del', 'elif', 'else', 'except', 'finally', 'for', 'from', 'global', 'if', 'import', 'in', 'is', 'lambda', 'nonlocal', 'not', 'or', 'pass', 'raise', 'return', 'try', 'while', 'with', 'yield']\n"
          ]
        }
      ]
    },
    {
      "cell_type": "code",
      "source": [
        "# 10진수\n",
        "x = 42\n",
        "print(x)\n",
        "\n",
        "# 2진수 0b\n",
        "y = 0b101010\n",
        "print(y)\n",
        "\n",
        "# 8진수 0o\n",
        "z = 0o52\n",
        "print(z)\n",
        "\n",
        "# 16진수 0x\n",
        "w = 0x2a\n",
        "print(w)"
      ],
      "metadata": {
        "colab": {
          "base_uri": "https://localhost:8080/"
        },
        "id": "Rh3H0rTGHEWI",
        "outputId": "a1213f6f-8916-4407-d3c9-d166ade5a9bb"
      },
      "execution_count": null,
      "outputs": [
        {
          "output_type": "stream",
          "name": "stdout",
          "text": [
            "42\n",
            "42\n",
            "42\n",
            "42\n"
          ]
        }
      ]
    },
    {
      "cell_type": "code",
      "source": [
        "# 4.24 * 10^-3\n",
        "x = 4.24e-3\n",
        "print(x)\n",
        "\n",
        "# 424000000\n",
        "y = 424000000\n",
        "z = 4.24e8\n",
        "print(y)\n",
        "print(z)"
      ],
      "metadata": {
        "colab": {
          "base_uri": "https://localhost:8080/"
        },
        "id": "GJetOzEoHwiP",
        "outputId": "3f8d9ba9-7102-40b1-dfca-b565b510d8ca"
      },
      "execution_count": null,
      "outputs": [
        {
          "output_type": "stream",
          "name": "stdout",
          "text": [
            "0.00424\n",
            "424000000\n",
            "424000000.0\n"
          ]
        }
      ]
    },
    {
      "cell_type": "code",
      "source": [
        "# 문자열은 '', \"\"둘 다 사용 가능\n",
        "string1 = 'Hello world'\n",
        "string2 = \"it's a beautiful day\"\n",
        "\n",
        "# 3중 따옴표\n",
        "string3 = \"\"\" this is also\n",
        "multi-line\n",
        "string\"\"\"\n",
        "\n",
        "# [] 문자열 중 몇번째 문자 반환\n",
        "string = \"Hello, World\"\n",
        "print(string[0])\n",
        "print(string[7])\n",
        "\n",
        "# + 문자열 합치기\n",
        "greeting = \"Hello\"\n",
        "name = \"John\"\n",
        "print(greeting + \",\"+ name + \".\")\n",
        "\n",
        "# * 문자열 반복\n",
        "word = \"start\"\n",
        "print(word * 3)\n",
        "\n",
        "# string.find 문자열이 몇번째부터 시작하는지 반환\n",
        "string = \"hello world\"\n",
        "print(string.find(\"world\"))"
      ],
      "metadata": {
        "colab": {
          "base_uri": "https://localhost:8080/"
        },
        "id": "DYcGaEB3I3rA",
        "outputId": "b0118b98-b973-4ee2-adeb-3650844c0862"
      },
      "execution_count": 1,
      "outputs": [
        {
          "output_type": "stream",
          "name": "stdout",
          "text": [
            "H\n",
            "W\n",
            "Hello,John.\n",
            "startstartstart\n",
            "6\n"
          ]
        }
      ]
    },
    {
      "cell_type": "code",
      "source": [
        "# 타입 에러\n",
        "# 숫자 10을 문자열로 형변환 >> str(10) == \"10\"\n",
        "num = str(10)\n",
        "text = \"apple\"\n",
        "print(num + text)"
      ],
      "metadata": {
        "colab": {
          "base_uri": "https://localhost:8080/"
        },
        "id": "7kX_v2tXKPV2",
        "outputId": "b96385d0-2ca3-440a-c525-59c974612ca5"
      },
      "execution_count": null,
      "outputs": [
        {
          "output_type": "stream",
          "name": "stdout",
          "text": [
            "10apple\n"
          ]
        }
      ]
    },
    {
      "cell_type": "code",
      "source": [
        "num = 10\n",
        "float_num = float(num)\n",
        "string_num = str(num)\n",
        "bool_num = bool(num)\n",
        "\n",
        "print(type(num))\n",
        "print(type(float_num))\n",
        "print(type(string_num))\n",
        "print(type(bool_num))"
      ],
      "metadata": {
        "colab": {
          "base_uri": "https://localhost:8080/"
        },
        "id": "X61z-RNSLV5v",
        "outputId": "722ab389-7564-48cc-fa64-8a7f21db0abe"
      },
      "execution_count": null,
      "outputs": [
        {
          "output_type": "stream",
          "name": "stdout",
          "text": [
            "<class 'int'>\n",
            "<class 'float'>\n",
            "<class 'str'>\n",
            "<class 'bool'>\n"
          ]
        }
      ]
    },
    {
      "cell_type": "code",
      "source": [
        "# 거듭제곱 **\n",
        "print(10**2)\n",
        "print(11//2)"
      ],
      "metadata": {
        "colab": {
          "base_uri": "https://localhost:8080/"
        },
        "id": "Rrp-EaSGPn2B",
        "outputId": "93a56dac-fd39-42df-f944-2030e88f5d07"
      },
      "execution_count": null,
      "outputs": [
        {
          "output_type": "stream",
          "name": "stdout",
          "text": [
            "100\n",
            "5\n"
          ]
        }
      ]
    },
    {
      "cell_type": "code",
      "source": [
        "a = True\n",
        "b = False\n",
        "c = True\n",
        "\n",
        "# and 둘 다 True여야 True 반환\n",
        "# or 둘 중 적어도 하나가 True면 True 반환\n",
        "print(a and b)\n",
        "print(a and c)\n",
        "print(a or b)\n",
        "print(a or c)\n",
        "print(b or c)\n",
        "\n",
        "# A in B : A가 B안에 포함 되어있는지 확인 연산자\n",
        "a = [1,2,3,4,5]\n",
        "b = \"Hello world~!\"\n",
        "\n",
        "print(4 in a)\n",
        "print(7 in a)\n",
        "print(\"w\" in b)\n",
        "\" \" in b # 공백"
      ],
      "metadata": {
        "colab": {
          "base_uri": "https://localhost:8080/"
        },
        "id": "G_2-4cgpQ6ti",
        "outputId": "50c823c1-f18d-4ab0-d347-b45fb14544f7"
      },
      "execution_count": null,
      "outputs": [
        {
          "output_type": "stream",
          "name": "stdout",
          "text": [
            "False\n",
            "True\n",
            "True\n",
            "True\n",
            "True\n",
            "True\n",
            "False\n",
            "True\n"
          ]
        },
        {
          "output_type": "execute_result",
          "data": {
            "text/plain": [
              "True"
            ]
          },
          "metadata": {},
          "execution_count": 26
        }
      ]
    },
    {
      "cell_type": "code",
      "source": [
        "name = \"John\"\n",
        "age = 30\n",
        "height = 180.5\n",
        "\n",
        "print(\"My name is %s, I'm %d years old and my height is %.1f.\" % (name, age, height))\n",
        "# .3f >> 소숫점 3째자리까지\n",
        "# 10.f >> 앞에 공백 10자리를 비워놓겠다\n",
        "# f >> 적힌 실수 그냥 프린트\n",
        "\n",
        "num = 10\n",
        "pi = 3.141592\n",
        "print(\"num = %d\" % num)\n",
        "print(\"pi = %.2f\" % pi)\n",
        "\n",
        "first = \"Jane\"\n",
        "second = \"Doe\"\n",
        "age = 25\n",
        "print(\"My name is %s %s and I am %d years old.\" % (first, second, age))\n",
        "\n",
        "decimal = 42\n",
        "binary = bin(decimal)\n",
        "print(\"The decinal number %d is equal to the binary number %s.\" % (decimal, binary))"
      ],
      "metadata": {
        "colab": {
          "base_uri": "https://localhost:8080/"
        },
        "id": "O9bWI-RJUQ1S",
        "outputId": "3177f0fb-7fe7-4c66-ea06-be496477d8e1"
      },
      "execution_count": null,
      "outputs": [
        {
          "output_type": "stream",
          "name": "stdout",
          "text": [
            "My name is John, I'm 30 years old and my height is 180.5.\n",
            "num = 10\n",
            "pi = 3.14\n",
            "My name is Jane Doe and I am 25 years old.\n",
            "The decinal number 42 is equal to the binary number 0b101010.\n"
          ]
        }
      ]
    },
    {
      "cell_type": "code",
      "source": [
        "name = \"John\"\n",
        "age = 30\n",
        "height = 170.5\n",
        "print(\"My name is {} and I'm {} years old. My height is {:.1f}.\" .format(name, age, height))\n",
        "print(\"My name is {2} and I'm {1} years old. My height is {0}.\" .format(height, age, name))\n",
        "print(\"{2}, {1}, {0}\".format(height, age, name))\n",
        "\n",
        "pi = 3.141592\n",
        "print(\"pi = {:3.2f}.\" .format(pi))"
      ],
      "metadata": {
        "colab": {
          "base_uri": "https://localhost:8080/"
        },
        "id": "ipHIufeaXdhW",
        "outputId": "33461718-f00d-4229-cc4c-9b831807cf89"
      },
      "execution_count": null,
      "outputs": [
        {
          "output_type": "stream",
          "name": "stdout",
          "text": [
            "My name is John and I'm 30 years old. My height is 170.5.\n",
            "My name is John and I'm 30 years old. My height is 170.5.\n",
            "John, 30, 170.5\n",
            "pi = 3.14.\n"
          ]
        }
      ]
    },
    {
      "cell_type": "code",
      "source": [
        "name = \"John\"\n",
        "age = 30\n",
        "height = 170.5\n",
        "print(f\"My name is {name} and I am {age} years old. My height is {height:.1f}.\")\n",
        "# 정수 d, 실수 f, 문자열 s."
      ],
      "metadata": {
        "colab": {
          "base_uri": "https://localhost:8080/"
        },
        "id": "PYC_Lu_YZKYm",
        "outputId": "14b5268e-fe22-4843-d22a-67194663327f"
      },
      "execution_count": null,
      "outputs": [
        {
          "output_type": "stream",
          "name": "stdout",
          "text": [
            "My name is John and I am 30 years old. My height is 170.5.\n"
          ]
        }
      ]
    },
    {
      "cell_type": "code",
      "source": [
        "# 문제 1\n",
        "\n",
        "name = \"Tom\"\n",
        "age = 20\n",
        "apple = 3\n",
        "orange = 2\n",
        "banana = 1\n",
        "result = 1.23\n",
        "score = 90\n",
        "a = 10\n",
        "b = 20\n",
        "c = 30\n",
        "\n",
        "print(f\"\"\"My name is {name} and I am {age} years old.\n",
        "i have {apple} apple, {orange} orange and {banana} banana.\n",
        "The result is {result}.\n",
        "Your score is {score}%.\n",
        "{a} + {b} = {c}\n",
        "\"\"\")\n"
      ],
      "metadata": {
        "colab": {
          "base_uri": "https://localhost:8080/"
        },
        "id": "c-A-YFS7aKec",
        "outputId": "b654791b-41a4-45e2-db0d-948dd9a40508"
      },
      "execution_count": null,
      "outputs": [
        {
          "output_type": "stream",
          "name": "stdout",
          "text": [
            "My name is Tom and I am 20 years old.\n",
            "i have 3 apple, 2 orange and 1 banana.\n",
            "The result is 1.23.\n",
            "Your score is 90%.\n",
            "10 + 20 = 30\n",
            "\n"
          ]
        }
      ]
    },
    {
      "cell_type": "code",
      "source": [
        "A = input(\"a : \")\n",
        "B = input(\"b : \")\n",
        "int(A) + int (B)\n",
        "\n",
        "num1 = int(input(\"a : \"))\n",
        "num2 = int(input(\"b : \"))\n",
        "\n",
        "add = num1 + num2\n",
        "sub = num1 - num2\n",
        "mul = num1 * num2\n",
        "div = num1 / num2\n",
        "\n",
        "print(f\"{num1} + {num2} = {add}\")\n",
        "print(f\"{num1} - {num2} = {sub}\")\n",
        "print(f\"{num1} * {num2} = {mul}\")\n",
        "print(f\"{num1} / {num2} = {div}\")"
      ],
      "metadata": {
        "colab": {
          "base_uri": "https://localhost:8080/"
        },
        "id": "JyqTw8cAdV9M",
        "outputId": "539e3369-4200-48e2-9e34-0e41c454bf7f"
      },
      "execution_count": null,
      "outputs": [
        {
          "output_type": "stream",
          "name": "stdout",
          "text": [
            "a : 10\n",
            "b : 10\n",
            "a : 10\n",
            "b : 2\n",
            "10 + 2 = 12\n",
            "10 - 2 = 8\n",
            "10 * 2 = 20\n",
            "10 / 2 = 5.0\n"
          ]
        }
      ]
    },
    {
      "cell_type": "code",
      "source": [
        "# 1. 초를 입력하면 분과 초로 표시하는 프로그램\n",
        "sec = int(input(\"sec = \"))\n",
        "minute = sec // 60\n",
        "second = sec % 60\n",
        "print(f\"{sec}초 = {minute}분 {second}초\")"
      ],
      "metadata": {
        "colab": {
          "base_uri": "https://localhost:8080/"
        },
        "id": "3cHSeYAufA-G",
        "outputId": "a70cfe37-f996-4c04-8465-e8b7de3fd9ef"
      },
      "execution_count": null,
      "outputs": [
        {
          "output_type": "stream",
          "name": "stdout",
          "text": [
            "sec = 200\n",
            "200초 = 3분 20초\n"
          ]
        }
      ]
    },
    {
      "cell_type": "code",
      "source": [
        "# 2. 분을 입력하면 일, 시간, 분으로 출력하는 프로그램 (몫 // , 나머지 %)\n",
        "min = int(input(\"min = \"))\n",
        "day = min // (24*60)\n",
        "hour = (min % (24*60)) // 60\n",
        "minute = (min % (24*60)) % 60\n",
        "print(f\"{min}분 = {day}일 {hour}시간 {minute}분\")"
      ],
      "metadata": {
        "colab": {
          "base_uri": "https://localhost:8080/"
        },
        "id": "p5OlFKusf9B7",
        "outputId": "559a4ee1-7ce0-4e98-e71a-57e5d37a7fc6"
      },
      "execution_count": null,
      "outputs": [
        {
          "output_type": "stream",
          "name": "stdout",
          "text": [
            "min = 1550\n",
            "1550분 = 1일 1시간 50분\n"
          ]
        }
      ]
    },
    {
      "cell_type": "code",
      "source": [
        "# 3. 500만원을 년이율 5%로 복리 저금했을 때 5년 후의 원리금의 합계를 출력하는 프로그램\n",
        "save = int(input(\"save : \"))\n",
        "percentage = 0.05\n",
        "year = 5\n",
        "total = save * (1 + percentage) ** year\n",
        "print(f\"원금 {save}를 {percentage}%로 {year}년 저금 시 총액 = {total : .0f}원\")"
      ],
      "metadata": {
        "colab": {
          "base_uri": "https://localhost:8080/"
        },
        "id": "hj5A9aGqiYk1",
        "outputId": "10ea83b1-910e-430b-c63f-98369120fd40"
      },
      "execution_count": null,
      "outputs": [
        {
          "output_type": "stream",
          "name": "stdout",
          "text": [
            "save : 5000000\n",
            "원금 5000000를 0.05%로 5년 저금 시 총액은  6381408원이 된다.\n"
          ]
        }
      ]
    },
    {
      "cell_type": "code",
      "source": [
        "# 4. 1부터 n까지의 합은 n(n+1)/2로 주어진다. 1~100까지의 합을 구하여 출력하는 프로그램\n",
        "n = int(input(\"n = \"))\n",
        "sum = n * (n + 1) /2\n",
        "print(f\"1에서 {n}까지의 합 = {sum : .0f}\")"
      ],
      "metadata": {
        "colab": {
          "base_uri": "https://localhost:8080/"
        },
        "id": "HyinXoUcjJXF",
        "outputId": "ed194ece-1cf3-4b06-bfe6-4377bbf3853a"
      },
      "execution_count": null,
      "outputs": [
        {
          "output_type": "stream",
          "name": "stdout",
          "text": [
            "n = 100\n",
            "1에서 100까지의 합 =  5050\n"
          ]
        }
      ]
    },
    {
      "cell_type": "code",
      "source": [
        "# 5. 판매자가 딸기와 포도를 판매하고 있다. 포도 한 알의 무게는 75g이고 딸기 한 알의 무게는 113.5g이다. 사용자로부터 포도 알의 개수와 딸기의 개수를 입력받아 총 무게를 계산하는 프로그램\n",
        "g = int(input(\"포도 알 개수 : \"))\n",
        "s = int(input(\"딸기 알 개수 : \"))\n",
        "weight = g * 75 + s * 113.5\n",
        "print(f\"포도 {g}알과 딸기 {s}알의 총 무게 = {weight}g\")"
      ],
      "metadata": {
        "colab": {
          "base_uri": "https://localhost:8080/"
        },
        "id": "yt2MO4l4jzrx",
        "outputId": "2d326df9-9401-4dda-ed0e-131b1ff8867b"
      },
      "execution_count": null,
      "outputs": [
        {
          "output_type": "stream",
          "name": "stdout",
          "text": [
            "포도 알 개수 : 10\n",
            "딸기 알 개수 : 10\n",
            "포도 10알과 딸기 10알의 총 무게 = 1885.0g\n"
          ]
        }
      ]
    }
  ]
}