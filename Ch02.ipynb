{
  "nbformat": 4,
  "nbformat_minor": 0,
  "metadata": {
    "colab": {
      "provenance": []
    },
    "kernelspec": {
      "name": "python3",
      "display_name": "Python 3"
    },
    "language_info": {
      "name": "python"
    }
  },
  "cells": [
    {
      "cell_type": "code",
      "execution_count": null,
      "metadata": {
        "colab": {
          "base_uri": "https://localhost:8080/"
        },
        "id": "L3hotqvEq0qc",
        "outputId": "dd80512f-1a0c-4890-a2ac-73c821cf4c6b"
      },
      "outputs": [
        {
          "output_type": "stream",
          "name": "stdout",
          "text": [
            "hi2\n"
          ]
        }
      ],
      "source": [
        "x = 10\n",
        "# 들여쓰기 주의!!\n",
        "if x > 20 :\n",
        "  print(\"hi1\")\n",
        "print(\"hi2\")"
      ]
    },
    {
      "cell_type": "code",
      "source": [
        "x = 10\n",
        "# 들여쓰기 주의!!\n",
        "if x > 20 :\n",
        "  print(\"20보다 크다\")\n",
        "else :\n",
        "  print(\"20보다 작다\")\n",
        "\n",
        "num = int(input(\"num : \"))\n",
        "if num % 2 == 0 :\n",
        "  print(f\"{num} = Even\")\n",
        "else :\n",
        "  print(f\"{num} = Odd\")"
      ],
      "metadata": {
        "colab": {
          "base_uri": "https://localhost:8080/"
        },
        "id": "idAPaztWr9fm",
        "outputId": "274c04e4-9a4b-46ba-d001-19ae65f667e8"
      },
      "execution_count": null,
      "outputs": [
        {
          "output_type": "stream",
          "name": "stdout",
          "text": [
            "20보다 작다\n",
            "숫자 : 20\n",
            "짝수\n"
          ]
        }
      ]
    },
    {
      "cell_type": "code",
      "source": [
        "num = int(input(\"num : \"))\n",
        "# elif는 여러개 가능 (if와 else 사이에)\n",
        "# 들여쓰기 주의!!\n",
        "if num > 0 :\n",
        "  print(f\"{num}는 양수\")\n",
        "elif num < 0 :\n",
        "  print(f\"{num}는 음수\")\n",
        "else:\n",
        "  print(f\"{num} = 0\")"
      ],
      "metadata": {
        "colab": {
          "base_uri": "https://localhost:8080/"
        },
        "id": "ZpAfXAhws10i",
        "outputId": "5b01d6e2-6b15-4469-9d3c-2e3ab5161638"
      },
      "execution_count": null,
      "outputs": [
        {
          "output_type": "stream",
          "name": "stdout",
          "text": [
            "num : 5\n",
            "5 = 양수\n"
          ]
        }
      ]
    },
    {
      "cell_type": "code",
      "source": [
        "# 사용자로부터 성적을 입력받아 학점 부여\n",
        "score = int(input(\"score : \"))\n",
        "\n",
        "if score >= 90 :\n",
        "  grade = 'A'\n",
        "elif score >= 80 :\n",
        "  grade = 'B'\n",
        "elif score >= 70 :\n",
        "  grade = 'C'\n",
        "elif score >= 60 :\n",
        "  grade = 'D'\n",
        "else :\n",
        "  grade = 'F'\n",
        "\n",
        "print(f\"당신의 학점 = {grade}\")"
      ],
      "metadata": {
        "colab": {
          "base_uri": "https://localhost:8080/"
        },
        "id": "lpTcDmdvt52s",
        "outputId": "35c80c2c-eee6-4463-e279-4762c912cce2"
      },
      "execution_count": null,
      "outputs": [
        {
          "output_type": "stream",
          "name": "stdout",
          "text": [
            "score : 55\n",
            "당신의 학점 = F\n"
          ]
        }
      ]
    },
    {
      "cell_type": "code",
      "source": [
        "# 큰 수 찾기\n",
        "a = 10\n",
        "b = 20\n",
        "\n",
        "a if a > b else b"
      ],
      "metadata": {
        "colab": {
          "base_uri": "https://localhost:8080/"
        },
        "id": "H4_pyez5vS0B",
        "outputId": "780b7d8f-f798-460b-d0a3-bcf6444059a6"
      },
      "execution_count": null,
      "outputs": [
        {
          "output_type": "execute_result",
          "data": {
            "text/plain": [
              "20"
            ]
          },
          "metadata": {},
          "execution_count": 10
        }
      ]
    },
    {
      "cell_type": "code",
      "source": [
        "score = 89\n",
        "\n",
        "print(\"A\") if score >= 90 else(print(\"B\") if score >= 80 else print(\"C\"))\n",
        "grade = \"A\" if score >= 90 else ((\"B\") if score >= 80 else (\"C\"))\n",
        "print(grade)"
      ],
      "metadata": {
        "colab": {
          "base_uri": "https://localhost:8080/"
        },
        "id": "2M4D91iuwVFb",
        "outputId": "3a97902d-3594-4ecb-f18e-90f9ae92643e"
      },
      "execution_count": null,
      "outputs": [
        {
          "output_type": "stream",
          "name": "stdout",
          "text": [
            "B\n",
            "B\n"
          ]
        }
      ]
    },
    {
      "cell_type": "code",
      "source": [
        "# 성적 계산기\n",
        "'''\n",
        "총 평균 점수는 국어 40%, 영어 40%, 수학 20%로 가중치를 부여하여 계산\n",
        "총 평균 점수가 90점 이상이면 A, 80점 이상이면 B, 70점 이상이면 C, 60점 이상이면 D, 60점 미만이면 F를 출력\n",
        "'''\n",
        "kor = int(input(\"국어점수 : \"))\n",
        "eng = int(input(\"영어점수 : \"))\n",
        "math = int(input(\"수학점수 : \"))\n",
        "avg = kor*0.4 + eng*0.4 + math*0.2\n",
        "print(f\"국어 : {kor}점, 영어 : {eng}점, 수학 : {math}점\")\n",
        "print(f\"총평균 점수 : {avg :.2f}점\")\n",
        "grade = \"A\" if avg >= 90 else(\"B\" if avg >= 80 else (\"C\" if avg >= 70 else (\"D\" if avg >= 60 else \"F\")))\n",
        "print(f\"학점 : {grade}\")\n"
      ],
      "metadata": {
        "colab": {
          "base_uri": "https://localhost:8080/"
        },
        "id": "0yn1KROUyYPj",
        "outputId": "08c97f7c-4f33-4e5c-e947-8eaa0e060bd9"
      },
      "execution_count": null,
      "outputs": [
        {
          "output_type": "stream",
          "name": "stdout",
          "text": [
            "국어점수 : 89\n",
            "영어점수 : 79\n",
            "수학점수 : 70\n",
            "국어 : 89점, 영어 : 79점, 수학 : 70점\n",
            "총평균 점수 : 81.20점\n",
            "학점 : B\n"
          ]
        }
      ]
    },
    {
      "cell_type": "code",
      "source": [
        "# 5개의 정수형 숫자를 입력 받아, 입력받은 숫자들 중에서 최댓값과 최솟값을 찾고 이를 출력하는 프로그램\n",
        "'''\n",
        "입력받은 숫자는 1이상 100 이하의 자연수\n",
        "입력받은 숫자 중 중복된 숫자가 있을 수 있음\n",
        "'''\n",
        "\n",
        "min = 100\n",
        "max = 0\n",
        "\n",
        "for i in range(5) :\n",
        "  num = int(input(f\"번째 숫자를 입력하시오: \"))\n",
        "  if num < min :\n",
        "    min = num\n",
        "  if num > max :\n",
        "    max = num\n",
        "\n",
        "print(f\"최대 : {max}, 최소 : {min}\")\n"
      ],
      "metadata": {
        "colab": {
          "base_uri": "https://localhost:8080/"
        },
        "id": "QdZBpTd-g7jP",
        "outputId": "1679e0ad-7e31-4b61-8042-d653138f4332"
      },
      "execution_count": null,
      "outputs": [
        {
          "output_type": "stream",
          "name": "stdout",
          "text": [
            "번째 숫자를 입력하시오: 40\n",
            "번째 숫자를 입력하시오: 2\n",
            "번째 숫자를 입력하시오: 56\n",
            "번째 숫자를 입력하시오: 86\n",
            "번째 숫자를 입력하시오: 32\n",
            "최대 : 86, 최소 : 2\n"
          ]
        }
      ]
    },
    {
      "cell_type": "code",
      "source": [
        "# 사용자로부터 정수형 숫자를 입력 받아. 입력 받은 숫자들의 합이 100보다 작을 때까지 숫자를 계속 입력받고 입력 받은 숫자들의 합을 출력하는 프로그램\n",
        "# 입력 받은 숫자는 1 이상 100이하의 자연수\n",
        "\n",
        "sum = 0\n",
        "while sum < 100 :\n",
        "  num = int(input(\"숫자를 입력하시오 : \"))\n",
        "  if sum + num > 100 :\n",
        "    break\n",
        "  sum = sum + num\n",
        "\n",
        "print(f\"입력받은 숫자들의 합 : {sum}\") # or sum - num : 제일 마지막으로 더해진 값이 num에 있으니까 이를 빼주면 100 보다 작은 마지막 합이 된다\n",
        "\n"
      ],
      "metadata": {
        "colab": {
          "base_uri": "https://localhost:8080/"
        },
        "id": "iLEPRwymjY5Y",
        "outputId": "e51d158e-a941-4d0a-b0de-2f970a13d384"
      },
      "execution_count": null,
      "outputs": [
        {
          "output_type": "stream",
          "name": "stdout",
          "text": [
            "숫자를 입력하시오 : 7\n",
            "숫자를 입력하시오 : 4\n",
            "숫자를 입력하시오 : 6\n",
            "숫자를 입력하시오 : 39\n",
            "숫자를 입력하시오 : 39\n",
            "숫자를 입력하시오 : 2\n",
            "숫자를 입력하시오 : 35\n",
            "입력받은 숫자들의 합 : 97\n"
          ]
        }
      ]
    },
    {
      "cell_type": "code",
      "source": [
        "# 피보나치 수열의 n번째 항을 출력하는 프로그램\n",
        "'''\n",
        "첫번째 항과 두번째 항은 1로 지정\n",
        "세번째 항부터는 앞 두 항의 합\n",
        "'''\n",
        "\n",
        "n = int(input(\"몇번째 항을 출력할까요 : \"))\n",
        "\n",
        "if n == 1 or n == 2 :\n",
        "  result = 1\n",
        "else:\n",
        "  a = 1\n",
        "  b = 1\n",
        "  result = a + b # 3번째 항\n",
        "  for i in range(2, n): # 앞에 두번째 항까지는 계산을 안해도 되므로 2번의 횟수가 제외된다\n",
        "    a = b\n",
        "    b = result\n",
        "    result = a + b # 4번째 항\n",
        "'''\n",
        "    a = b\n",
        "    b = result\n",
        "    result = a + b # 4번째 항\n",
        "'''\n",
        "\n",
        "print(f\"피보나치 수열의 {n}번째 항 = {result}\")"
      ],
      "metadata": {
        "colab": {
          "base_uri": "https://localhost:8080/"
        },
        "id": "7YsBzfuFlJZr",
        "outputId": "72071af8-eaa9-4da1-bb73-a5ff9520089a"
      },
      "execution_count": null,
      "outputs": [
        {
          "output_type": "stream",
          "name": "stdout",
          "text": [
            "몇번째 항을 출력할까요 : 7\n",
            "피보나치 수열의 7번째 항 = 21\n"
          ]
        }
      ]
    },
    {
      "cell_type": "code",
      "source": [
        "for i in [1,2,3,4,5] :\n",
        "  if i == 4 :\n",
        "    break # 그 상태에서 반복문 중지\n",
        "  print(i)"
      ],
      "metadata": {
        "colab": {
          "base_uri": "https://localhost:8080/"
        },
        "id": "rvrrQ-0YpCsu",
        "outputId": "8246451f-6473-4ffd-a769-f10561b247e7"
      },
      "execution_count": null,
      "outputs": [
        {
          "output_type": "stream",
          "name": "stdout",
          "text": [
            "1\n",
            "2\n",
            "3\n"
          ]
        }
      ]
    },
    {
      "cell_type": "code",
      "source": [
        "for i in [1,2,3,4,5] :\n",
        "  if i == 4 :\n",
        "    continue # 반복문의 처음으로 돌아가 다음이 실행\n",
        "  print(i)"
      ],
      "metadata": {
        "colab": {
          "base_uri": "https://localhost:8080/"
        },
        "id": "KE_FdK_LpQjF",
        "outputId": "49121220-86b7-44e2-8385-a0e9f8776632"
      },
      "execution_count": null,
      "outputs": [
        {
          "output_type": "stream",
          "name": "stdout",
          "text": [
            "1\n",
            "2\n",
            "3\n",
            "5\n"
          ]
        }
      ]
    },
    {
      "cell_type": "code",
      "source": [
        "for i in [1,2,3,4,5] :\n",
        "  if i == 4 :\n",
        "    pass # 그냥 지나간다\n",
        "  print(i)"
      ],
      "metadata": {
        "colab": {
          "base_uri": "https://localhost:8080/"
        },
        "id": "CwjN1yX4pUXc",
        "outputId": "63edecde-ffa1-4011-8a07-37951835331a"
      },
      "execution_count": null,
      "outputs": [
        {
          "output_type": "stream",
          "name": "stdout",
          "text": [
            "1\n",
            "2\n",
            "3\n",
            "4\n",
            "5\n"
          ]
        }
      ]
    },
    {
      "cell_type": "code",
      "source": [
        "vowels = ['a', 'e', 'i', 'o', 'u']\n",
        "input_Str =input(\"Enter the string : \")\n",
        "\n",
        "output_str = \"\"\n",
        "for char in input_Str:\n",
        "  if char in vowels :\n",
        "    pass # 아무것도 하지 않음 == 해당 단어를 더하지, 붙이지 않음 >> 제거\n",
        "  else :\n",
        "    output_str = output_str + char\n",
        "\n",
        "print(\"Modified string:\", output_str)\n"
      ],
      "metadata": {
        "colab": {
          "base_uri": "https://localhost:8080/"
        },
        "id": "voVlyiLvplbz",
        "outputId": "65daf65f-5343-421c-c3d6-e47e849ab418"
      },
      "execution_count": null,
      "outputs": [
        {
          "output_type": "stream",
          "name": "stdout",
          "text": [
            "Enter the string : ddddddaaaaaaaaaaaddd\n",
            "Modified string: ddddddddd\n"
          ]
        }
      ]
    },
    {
      "cell_type": "code",
      "source": [
        "import random\n",
        "\n",
        "random.random()\n",
        "# 0~10 사이의 난수를 만들고 싶은데 random()을 사용할 경우 >> random() * 10 >> 0~10\n",
        "\n",
        "random.randint(1, 50)\n"
      ],
      "metadata": {
        "colab": {
          "base_uri": "https://localhost:8080/"
        },
        "id": "DQxJT7rSq7fI",
        "outputId": "503c8075-ba5c-47d0-c982-e4c29c03683f"
      },
      "execution_count": null,
      "outputs": [
        {
          "output_type": "execute_result",
          "data": {
            "text/plain": [
              "47"
            ]
          },
          "metadata": {},
          "execution_count": 27
        }
      ]
    },
    {
      "cell_type": "code",
      "source": [
        "# 두 주사위를 던졌을 때, 합이 7이 되면 이김, 그렇지 않으면 지는 간단한 주사위 게임\n",
        "# random모듈의 randint()\n",
        "\n",
        "import random\n",
        "\n",
        "while True : # 무한 반복\n",
        "  d1 = random.randint(1,6)\n",
        "  d2 = random.randint(1,6)\n",
        "  print(f\"d1 = {d1}\")\n",
        "  print(f\"d2 = {d2}\")\n",
        "\n",
        "  if d1 + d2 == 7 :\n",
        "    print(\"이김\")\n",
        "    break\n",
        "  else :\n",
        "    print(\"짐\")"
      ],
      "metadata": {
        "colab": {
          "base_uri": "https://localhost:8080/"
        },
        "id": "zENh2f2Mu35O",
        "outputId": "44657374-2958-4a00-c5af-ce7b53e3eeb9"
      },
      "execution_count": null,
      "outputs": [
        {
          "output_type": "stream",
          "name": "stdout",
          "text": [
            "d1 = 1\n",
            "d2 = 2\n",
            "짐\n",
            "d1 = 3\n",
            "d2 = 3\n",
            "짐\n",
            "d1 = 2\n",
            "d2 = 6\n",
            "짐\n",
            "d1 = 4\n",
            "d2 = 1\n",
            "짐\n",
            "d1 = 6\n",
            "d2 = 4\n",
            "짐\n",
            "d1 = 5\n",
            "d2 = 2\n",
            "이김\n"
          ]
        }
      ]
    },
    {
      "cell_type": "code",
      "source": [
        "# 두 주사위를 던져 합이 7이 되면 이김, 그렇지 않으면 지는 간단한 주사위 게임\n",
        "import random\n",
        "\n",
        "sum = 0\n",
        "\n",
        "n1 = random.randint(1,6)\n",
        "n2 = random.randint(1,6)\n",
        "\n",
        "if n1 + n2 == 7 :\n",
        "  print(f\"주사위1 = {n1}, 주사위2 = {n2} >> 이김\")\n",
        "else :\n",
        "  print(f\"주사위1 = {n1}, 주사위2 = {n2} >> 짐\")"
      ],
      "metadata": {
        "id": "Z7hY2AsKR3TT"
      },
      "execution_count": null,
      "outputs": []
    },
    {
      "cell_type": "code",
      "source": [
        "# 계산기 프로그램\n",
        "while True :\n",
        "  n1 = input(\"첫번째 수를 입력하시오(exit입력시 종료) : \")\n",
        "  if n1 == \"exit\" :\n",
        "    print(\"프로그램이 종료되었습니다\")\n",
        "    break\n",
        "  n2 = input(\"두번째 수를 입력하시오 : \")\n",
        "  op = input(\"연산자를 입력하시오(+, -, *, /) : \")\n",
        "\n",
        "  n1 = int(n1)\n",
        "  n2 = int(n2)\n",
        "\n",
        "  if op == \"+\" :\n",
        "    sum = n1 + n2\n",
        "    print(f\"{n1} + {n2} = {sum}\")\n",
        "  elif op == \"-\" :\n",
        "    sub = n1 - n2\n",
        "    print(f\"{n1} - {n2} = {sub}\")\n",
        "  elif op == \"*\" :\n",
        "    mul = n1 * n2\n",
        "    print(f\"{n1} * {n2} = {mul}\")\n",
        "  elif op == \"/\" :\n",
        "    if n2 == 0 :\n",
        "      print(\"0으로 나눌 수 없습니다\")\n",
        "      continue\n",
        "    div = n1 / n2\n",
        "    print(f\"{n1} / {n2} = {div :.1f}\")"
      ],
      "metadata": {
        "id": "9CvYGamrR85y"
      },
      "execution_count": null,
      "outputs": []
    },
    {
      "cell_type": "code",
      "source": [
        "# 계산기 프로그램\n",
        "# 위 코드의 업그레이드 버\n",
        "\n",
        "while True :\n",
        "  num1 = input(\"첫번째 수를 입력하세요('exit'입력 시 종료) : \")\n",
        "  if num1 == 'exit' :\n",
        "    print(\"종료되었습니다\")\n",
        "    break\n",
        "  num2 = input(\"두번째 수를 입력하세요 : \")\n",
        "  operator = str(input(\"연산자를 입력하세요(+,-,*,/) : \"))\n",
        "\n",
        "  if num1.isdigit and num2.isdigit() : # 둘 다 숫자일 경우에 계산 실행, isdigit 숫자형인지 확인해주는 명령어\n",
        "\n",
        "    num1 = int(num)\n",
        "    num2 = int(num2)\n",
        "\n",
        "    if operator == '+' :\n",
        "      result = num1 + num2\n",
        "      print(f\"{num1} + {num2} = {result}\")\n",
        "    elif operator == '-' :\n",
        "      result = num1 - num2\n",
        "      print(f\"{num1} - {num2} = {result}\")\n",
        "    elif operator == '*' :\n",
        "      result = num1 * num2\n",
        "      print(f\"{num1} * {num2} = {result}\")\n",
        "    elif operator == '/' :\n",
        "      if num2 == 0 :\n",
        "        print(\"0으로 나눌 수 없습니다\")\n",
        "        continue\n",
        "      else :\n",
        "        result = num1 / num2\n",
        "      print(f\"{num1} / {num2} = {result : .f}\")\n",
        "  else :\n",
        "    print(\"올바른 값을 입력하세요\")\n",
        "    continue"
      ],
      "metadata": {
        "colab": {
          "base_uri": "https://localhost:8080/"
        },
        "id": "H6G_wZezwDZ5",
        "outputId": "951dd0a7-a592-4e92-fbfa-989d6161fc37"
      },
      "execution_count": null,
      "outputs": [
        {
          "output_type": "stream",
          "name": "stdout",
          "text": [
            "첫번째 수를 입력하세요('exit'입력 시 종료) : exit\n",
            "종료되었습니다\n"
          ]
        }
      ]
    },
    {
      "cell_type": "code",
      "source": [
        "# 숫자 맞추기 게임 프로그램\n",
        "'''\n",
        "1~100 사이의 난수를 만들고 사용자가 1~100 사이의 수를 입력하여 맞추는 프로그램\n",
        "5회까지 맞추지 못하면 종료\n",
        "'''\n",
        "\n",
        "import random\n",
        "\n",
        "pc = random.randint(1, 100)\n",
        "\n",
        "time = 0\n",
        "me = 0\n",
        "\n",
        "while me != pc and time < 5 :\n",
        "  me = int(input(\"예상 숫자를 입력하시오 ; \"))\n",
        "  time = time + 1\n",
        "  if me < pc :\n",
        "    print(\"더 큽니다\")\n",
        "  elif me > pc :\n",
        "    print(\"더 작습니다\")\n",
        "  else :\n",
        "    print(f\"맞췄습니다 : pc = {pc}, 나 = {me}\")\n",
        "\n",
        "if time == 5 and me != pc :\n",
        "  print(\"졌습니다, pc의 난수는 {pc}였습니다\")\n"
      ],
      "metadata": {
        "colab": {
          "base_uri": "https://localhost:8080/"
        },
        "id": "Il3aE_GU0yVP",
        "outputId": "cf8c915a-5e43-4a23-d9c3-d6f695c236fd"
      },
      "execution_count": null,
      "outputs": [
        {
          "output_type": "stream",
          "name": "stdout",
          "text": [
            "예상 숫자를 입력하시오 ; 5\n",
            "더 작습니다\n",
            "예상 숫자를 입력하시오 ; 3\n",
            "더 작습니다\n",
            "예상 숫자를 입력하시오 ; 2\n",
            "맞췄습니다 : pc = 2, 나 = 2\n"
          ]
        }
      ]
    },
    {
      "cell_type": "code",
      "source": [
        "# 숫자 맞추기 게임\n",
        "# 최대 5회만 수행할 수 있도록 하기\n",
        "import random\n",
        "time = 1\n",
        "while time <= 5 :\n",
        "  pc = random.randint(1,100)\n",
        "  user = int(input(\"1~100사이의 예상 수 :\"))\n",
        "\n",
        "  if pc == user :\n",
        "    print(f\"pc = {pc}, user = {user} >> 맞췄습니다\")\n",
        "    print(\"종료합니다\")\n",
        "  else :\n",
        "    print(f\"pc = {pc}, user = {user} >> 틀렸습니다\")\n",
        "    time = time + 1\n",
        "    if time > 5 :\n",
        "     print(\"5회 초과하여 프로그램을 종료합니다\")"
      ],
      "metadata": {
        "id": "_UzI0DiGSGas"
      },
      "execution_count": null,
      "outputs": []
    },
    {
      "cell_type": "code",
      "source": [
        "# 정수를 입력 받아 그 수의 약수를 모두 출력하는 프로그램\n",
        "# m % n == 0이면 n은 m이 약수이다\n",
        "\n",
        "n = int(input(\"정수를 입력하시오 : \"))\n",
        "\n",
        "for i in range(1, n + 1) :\n",
        "  if n % i == 0 :\n",
        "    print(i, end = \" \") # 가로로 나열 >> end = \" \" 공백을 넣어주어야 각 값이 떨어져서 가독성이 좋게 표시된다"
      ],
      "metadata": {
        "colab": {
          "base_uri": "https://localhost:8080/"
        },
        "id": "Sh6eb6S_fyLp",
        "outputId": "e8f4b8a7-db05-4585-a07a-5bbfc3553b06"
      },
      "execution_count": null,
      "outputs": [
        {
          "output_type": "stream",
          "name": "stdout",
          "text": [
            "정수를 입력하시오 : 12\n",
            "1 2 3 4 6 12 "
          ]
        }
      ]
    },
    {
      "cell_type": "code",
      "source": [
        "# 반복문과 조건문을 사용해 점수를 계속 입력받아 90점 이상이면 A, 80점 이상이면 B, 60점 이상이면 C, 40점 이상이면 D, 39점 이하라면 F,\n",
        "# 음수를 입력받으면 종료\n",
        "\n",
        "while True :\n",
        "  score = int(input(\"점수를 입력하시오(음수를 입력하면 종료): \"))\n",
        "  if score < 0 :\n",
        "    print(\"종료합니다\")\n",
        "    break\n",
        "  elif score >= 90 :\n",
        "    grade = 'A'\n",
        "    print(f\"등급 = {grade}\")\n",
        "  elif score >= 80 :\n",
        "    grade = 'B'\n",
        "    print(f\"등급 = {grade}\")\n",
        "  elif score >= 60 :\n",
        "    grade = 'C'\n",
        "    print(f\"등급 = {grade}\")\n",
        "  elif score >= 40 :\n",
        "    grade = 'D'\n",
        "    print(f\"등급 = {grade}\")\n",
        "  else :\n",
        "    grade = 'F'\n",
        "    print(f\"등급 = {grade}\")\n",
        "\n"
      ],
      "metadata": {
        "colab": {
          "base_uri": "https://localhost:8080/"
        },
        "id": "-7pmG9fBiIVi",
        "outputId": "79f36703-94a2-4f38-d951-5721f157aa76"
      },
      "execution_count": null,
      "outputs": [
        {
          "output_type": "stream",
          "name": "stdout",
          "text": [
            "점수를 입력하시오(음수를 입력하면 종료): 39\n",
            "등급 = F\n",
            "점수를 입력하시오(음수를 입력하면 종료): -1\n",
            "종료합니다\n"
          ]
        }
      ]
    },
    {
      "cell_type": "code",
      "source": [
        "# 다음과 같은 게임 프로그램\n",
        "'''\n",
        "플레이어가 처음에 $20를 가지고 있다\n",
        "동전을 한 번 던져서 앞면(1) 또는 뒷면(2)이 나온다\n",
        "맞추면 $9를 따고 틀리면 $10을 잃는다\n",
        "플레이어가 도늘 모두 잃거나 $40이 되면 게임 종료\n",
        "from random import randint 사용\n",
        "'''\n",
        "\n",
        "import random\n",
        "money = 20\n",
        "\n",
        "while True :\n",
        "  coin = random.randint(1,2)\n",
        "  player = int(input(\"동전을 예측해라(앞1, 뒤2) : \"))\n",
        "\n",
        "  if player == coin :\n",
        "    print(f\"나 : {player}, pc : {coin} > 맞춤\")\n",
        "    money = money + 9\n",
        "    print(f\"{money}$\")\n",
        "  else :\n",
        "    print(f\"나 : {player}, pc : {coin} > 틀림\")\n",
        "    money = money - 10\n",
        "    print(f\"{money}$\")\n",
        "\n",
        "  if money <= 0 :\n",
        "    print(\"파산했습니다 ㅠㅠ\")\n",
        "    break\n",
        "  if money >= 40 :\n",
        "    print(\"2배로 돈을 벌었습니다 !!\")\n",
        "    break\n"
      ],
      "metadata": {
        "colab": {
          "base_uri": "https://localhost:8080/"
        },
        "id": "ppxvDgCwlH3y",
        "outputId": "631b31e1-2ad9-4f83-d2fe-137715f58a1e"
      },
      "execution_count": null,
      "outputs": [
        {
          "output_type": "stream",
          "name": "stdout",
          "text": [
            "동전을 예측해라(앞1, 뒤2) : 1\n",
            "나 : 1, pc : 1 > 맞춤\n",
            "29$\n",
            "동전을 예측해라(앞1, 뒤2) : 2\n",
            "나 : 2, pc : 1 > 틀림\n",
            "19$\n",
            "동전을 예측해라(앞1, 뒤2) : 1\n",
            "나 : 1, pc : 1 > 맞춤\n",
            "28$\n",
            "동전을 예측해라(앞1, 뒤2) : 2\n",
            "나 : 2, pc : 2 > 맞춤\n",
            "37$\n",
            "동전을 예측해라(앞1, 뒤2) : 2\n",
            "나 : 2, pc : 2 > 맞춤\n",
            "46$\n",
            "2배로 돈을 벌었습니다 !!\n"
          ]
        }
      ]
    }
  ]
}