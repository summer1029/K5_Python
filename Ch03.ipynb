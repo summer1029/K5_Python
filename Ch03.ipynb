{
  "nbformat": 4,
  "nbformat_minor": 0,
  "metadata": {
    "colab": {
      "provenance": []
    },
    "kernelspec": {
      "name": "python3",
      "display_name": "Python 3"
    },
    "language_info": {
      "name": "python"
    }
  },
  "cells": [
    {
      "cell_type": "markdown",
      "source": [
        "문자열 >> ' ', \" \", \"\"\" \"\"\"\n",
        "\n",
        "'He said \"it's so hot\"'\n",
        "\n",
        "\"It's so wonderful\"\n",
        "\n",
        "len() 문자열 개수 반환"
      ],
      "metadata": {
        "id": "F67D-MhvuTt1"
      }
    },
    {
      "cell_type": "code",
      "source": [
        "# 문자열 합치기\n",
        "s1 = \"hello\"\n",
        "s2 = \"World\"\n",
        "s1 + s2"
      ],
      "metadata": {
        "id": "B4UK2gmHTUMR"
      },
      "execution_count": null,
      "outputs": []
    },
    {
      "cell_type": "code",
      "source": [
        "# 문자열 반복\n",
        "s1 = \"Ha\"\n",
        "s1 * 3"
      ],
      "metadata": {
        "id": "YF7YvnlJTWTB"
      },
      "execution_count": null,
      "outputs": []
    },
    {
      "cell_type": "code",
      "source": [
        "# 문자열 길이 구하기\n",
        "s1 = \"Hello my name is Summer\"\n",
        "len(s1)"
      ],
      "metadata": {
        "id": "wvvDJnl7TYCn"
      },
      "execution_count": null,
      "outputs": []
    },
    {
      "cell_type": "code",
      "source": [
        "s = \"Hello world\"\n",
        "print(s[0]) # 인덱스 (0번부터 시작)\n",
        "print(s[4])\n",
        "print(s[10])\n",
        "print(s[-1]) # 인덱스 -(정수값)를 붙이면 뒤에서 부터 시작\n",
        "s[5] # 공백도 문자열에 포함"
      ],
      "metadata": {
        "colab": {
          "base_uri": "https://localhost:8080/",
          "height": 109
        },
        "id": "3Cv-fekSuVl_",
        "outputId": "3a1a320b-e49c-46ac-a529-9d4595f0de01"
      },
      "execution_count": null,
      "outputs": [
        {
          "output_type": "stream",
          "name": "stdout",
          "text": [
            "H\n",
            "o\n",
            "d\n",
            "d\n"
          ]
        },
        {
          "output_type": "execute_result",
          "data": {
            "text/plain": [
              "' '"
            ],
            "application/vnd.google.colaboratory.intrinsic+json": {
              "type": "string"
            }
          },
          "metadata": {},
          "execution_count": 8
        }
      ]
    },
    {
      "cell_type": "code",
      "source": [
        "# 홀수번째 문자 추출 0(첫번째), 2(세번째), 4(다섯번째), ...\n",
        "string = \"abcdefghij\"\n",
        "\n",
        "result = \"\"\n",
        "for i in range(len(string)) : # for i in range(10)\n",
        "  if i % 2 == 0 :\n",
        "    result = result + string[i]\n",
        "print(result)"
      ],
      "metadata": {
        "colab": {
          "base_uri": "https://localhost:8080/"
        },
        "id": "7oJud9ayvfK8",
        "outputId": "f0eb8283-9bfe-4b2d-b3bc-fc714a4462a2"
      },
      "execution_count": null,
      "outputs": [
        {
          "output_type": "stream",
          "name": "stdout",
          "text": [
            "acegi\n"
          ]
        }
      ]
    },
    {
      "cell_type": "code",
      "source": [
        "# 문자열 슬라이싱\n",
        "s = \"hello world\"\n",
        "print(s[6::])\n",
        "print(s[6:11:1])\n",
        "\n",
        "print(s[:5:])\n",
        "print(s[0:5:1])\n",
        "\n",
        "print(s[::2])\n",
        "print(s[0:11:2])"
      ],
      "metadata": {
        "id": "mR056xmhTfzp"
      },
      "execution_count": null,
      "outputs": []
    },
    {
      "cell_type": "code",
      "source": [
        "string = \"abcdefghij\"\n",
        "string[0:3:1] # 제일 마지막 end숫자는 제외. range도 마지막 수는 제외 하는 것 처럼"
      ],
      "metadata": {
        "colab": {
          "base_uri": "https://localhost:8080/",
          "height": 35
        },
        "id": "E9C2c5GHxAyB",
        "outputId": "4e8120cb-8a88-4f06-b8ab-603750cc64e2"
      },
      "execution_count": null,
      "outputs": [
        {
          "output_type": "execute_result",
          "data": {
            "text/plain": [
              "'adgj'"
            ],
            "application/vnd.google.colaboratory.intrinsic+json": {
              "type": "string"
            }
          },
          "metadata": {},
          "execution_count": 12
        }
      ]
    },
    {
      "cell_type": "code",
      "source": [
        "# world 추출\n",
        "string = \"Hello world\"\n",
        "substring = string[6::1] # end는 생략 가능, end, step이 둘다 생략 된다면 string[6:]으로도 표시 가능 = string[6::]\n",
        "print(substring)"
      ],
      "metadata": {
        "colab": {
          "base_uri": "https://localhost:8080/"
        },
        "id": "73Zt57eixn6P",
        "outputId": "2ec94850-7088-458d-911d-07e9d0afe61e"
      },
      "execution_count": null,
      "outputs": [
        {
          "output_type": "stream",
          "name": "stdout",
          "text": [
            "world\n"
          ]
        }
      ]
    },
    {
      "cell_type": "code",
      "source": [
        "# hello 추출\n",
        "string = \"hello world\"\n",
        "sub = string[0:5:1]\n",
        "print(sub)"
      ],
      "metadata": {
        "colab": {
          "base_uri": "https://localhost:8080/"
        },
        "id": "T6KhG0l_yFws",
        "outputId": "d5cc7524-b295-41d1-a718-cf9eda79dd5b"
      },
      "execution_count": null,
      "outputs": [
        {
          "output_type": "stream",
          "name": "stdout",
          "text": [
            "hello\n"
          ]
        }
      ]
    },
    {
      "cell_type": "code",
      "source": [
        "# hello world에서 hlowrd부분 문자열 추출\n",
        "string = \"hello world\"\n",
        "sub = string[0::2] # == string[0:11:2] == string[::2]\n",
        "print(sub)"
      ],
      "metadata": {
        "colab": {
          "base_uri": "https://localhost:8080/"
        },
        "id": "v9oPMhoxyQoN",
        "outputId": "3980e8f1-3d4b-4651-8e01-e37cc5a042ae"
      },
      "execution_count": null,
      "outputs": [
        {
          "output_type": "stream",
          "name": "stdout",
          "text": [
            "hlowrd\n"
          ]
        }
      ]
    },
    {
      "cell_type": "code",
      "source": [
        "# 문자열 뒤집기\n",
        "s = \"hello world\"\n",
        "print(s[::-1])"
      ],
      "metadata": {
        "id": "8qbt53SaTjzu"
      },
      "execution_count": null,
      "outputs": []
    },
    {
      "cell_type": "code",
      "source": [
        "# 문자열 뒤집기\n",
        "string = \"hello, world\"\n",
        "reversed_s = string[::-1] # 처음부터 끝까지이긴 한데 뒤에서 부터 1씩 감소하는 문자열을 빼온다\n",
        "print(reversed_s)"
      ],
      "metadata": {
        "colab": {
          "base_uri": "https://localhost:8080/"
        },
        "id": "S8kr8DxvzBnv",
        "outputId": "aece0ca8-54bf-4634-d584-dff980bbd10b"
      },
      "execution_count": null,
      "outputs": [
        {
          "output_type": "stream",
          "name": "stdout",
          "text": [
            "dlrow ,olleh\n"
          ]
        }
      ]
    },
    {
      "cell_type": "code",
      "source": [
        "s = \"Hello\"\n",
        "print (\"h\" + s[1::])"
      ],
      "metadata": {
        "colab": {
          "base_uri": "https://localhost:8080/"
        },
        "id": "eCNjci-C0k4h",
        "outputId": "e4ccd366-56e6-487c-a8bf-c092c8958309"
      },
      "execution_count": null,
      "outputs": [
        {
          "output_type": "stream",
          "name": "stdout",
          "text": [
            "hello\n"
          ]
        }
      ]
    },
    {
      "cell_type": "code",
      "source": [
        "s = \"hello world\"\n",
        "S = s.upper()\n",
        "print(S) # HELLO WORLD\n",
        "print(s.upper()) # HELLO WORLD\n",
        "print(s.capitalize()) # Hello world\n",
        "print(s.title()) # Hello World\n",
        "print(S.lower()) # hello world\n",
        "print(\"Hello, World\".swapcase()) # hELLO, wORLD"
      ],
      "metadata": {
        "colab": {
          "base_uri": "https://localhost:8080/"
        },
        "id": "oHqsbpqC1DRW",
        "outputId": "72076fe9-d001-4fd0-9444-591d6be6a02b"
      },
      "execution_count": null,
      "outputs": [
        {
          "output_type": "stream",
          "name": "stdout",
          "text": [
            "HELLO WORLD\n",
            "HELLO WORLD\n",
            "Hello world\n",
            "Hello World\n",
            "hello world\n",
            "hELLO, wORLD\n"
          ]
        }
      ]
    },
    {
      "cell_type": "markdown",
      "source": [
        "find와 index의 차이는 해당 문자열을 못찾았을 때 반환하는 값(-1, ValueError)이 다르다는 차이를 가진다."
      ],
      "metadata": {
        "id": "jnrNc8hT3ntp"
      }
    },
    {
      "cell_type": "code",
      "source": [
        "s = \"hello, world\"\n",
        "print(s.find(\"o\"))\n",
        "print(s.rfind(\"o\")) # 뒤에서 o라는 문자열을 찾는데 제일 먼저 나오는 문자열 >> 8번째의 o\n",
        "print(s.index(\"o\"))\n",
        "print(s.rindex(\"o\")) # 뒤에서 o라는 문자열을 찾는데 제일 먼저 나오는 문자열 >> 8번째의 o\n",
        "print(s.count(\"o\")) # 문자열 o의 개수 반환"
      ],
      "metadata": {
        "colab": {
          "base_uri": "https://localhost:8080/"
        },
        "id": "9hJP4yK-3zdR",
        "outputId": "9dbf9aca-7128-40f5-adf4-67275c4af36d"
      },
      "execution_count": null,
      "outputs": [
        {
          "output_type": "stream",
          "name": "stdout",
          "text": [
            "4\n",
            "8\n",
            "4\n",
            "8\n",
            "2\n"
          ]
        }
      ]
    },
    {
      "cell_type": "code",
      "source": [
        "s = \"  $hello,    world$\"\n",
        "\n",
        "print(s.strip())\n",
        "print(s.rstrip())\n",
        "print(s.lstrip())\n",
        "print(s.strip(\"$\"))\n",
        "print(s.replace(\"o\", \"0\"))"
      ],
      "metadata": {
        "colab": {
          "base_uri": "https://localhost:8080/"
        },
        "id": "v5tV27yj7Zn7",
        "outputId": "bebc4637-26a4-4b0e-ea5c-d2ac66b13490"
      },
      "execution_count": null,
      "outputs": [
        {
          "output_type": "stream",
          "name": "stdout",
          "text": [
            "$hello,    world$\n",
            "  $hello,    world$\n",
            "$hello,    world$\n",
            "  $hello,    world\n",
            "  $hell0,    w0rld$\n"
          ]
        }
      ]
    },
    {
      "cell_type": "code",
      "source": [
        "s = \"hello world\"\n",
        "print(s.split())\n",
        "a = \"apple,banana,peach\"\n",
        "print(a.split(\",\"))\n",
        "print(\", \".join([\"apple\", \"banan\", \"peach\"]))"
      ],
      "metadata": {
        "colab": {
          "base_uri": "https://localhost:8080/"
        },
        "id": "KpsTkbkv8nXx",
        "outputId": "b93409ed-c173-43cb-90fe-98087b363b0b"
      },
      "execution_count": null,
      "outputs": [
        {
          "output_type": "stream",
          "name": "stdout",
          "text": [
            "['hello', 'world']\n",
            "['apple', 'banana', 'peach']\n",
            "apple, banan, peach\n"
          ]
        }
      ]
    },
    {
      "cell_type": "markdown",
      "source": [],
      "metadata": {
        "id": "anFxJExuTzP2"
      }
    },
    {
      "cell_type": "markdown",
      "source": [
        "# 사용자가 입력한 문자열에 대해 다음 물음에 답하라"
      ],
      "metadata": {
        "id": "_JmSo1EhTyWw"
      }
    },
    {
      "cell_type": "code",
      "source": [
        "# 문자열의 문자수 출력\n",
        "s = str(input(\"문자열을 입력하시오 : \"))\n",
        "print(len(s))"
      ],
      "metadata": {
        "colab": {
          "base_uri": "https://localhost:8080/",
          "height": 466
        },
        "id": "EGWcpXW494-n",
        "outputId": "4f276263-75ef-4c58-cbb2-62b4d5c67508"
      },
      "execution_count": null,
      "outputs": [
        {
          "output_type": "stream",
          "name": "stdout",
          "text": [
            "문자열을 입력하시오 : sdafefsasfefsa\n",
            "sdafefsasfefsa의 문자수 =  14\n"
          ]
        },
        {
          "output_type": "error",
          "ename": "KeyboardInterrupt",
          "evalue": "ignored",
          "traceback": [
            "\u001b[0;31m---------------------------------------------------------------------------\u001b[0m",
            "\u001b[0;31mKeyboardInterrupt\u001b[0m                         Traceback (most recent call last)",
            "\u001b[0;32m<ipython-input-64-86dee81c1b3f>\u001b[0m in \u001b[0;36m<cell line: 8>\u001b[0;34m()\u001b[0m\n\u001b[1;32m      6\u001b[0m \u001b[0;34m\u001b[0m\u001b[0m\n\u001b[1;32m      7\u001b[0m \u001b[0;31m# 2. 문자열을 10번 반목한 문자열 출력\u001b[0m\u001b[0;34m\u001b[0m\u001b[0;34m\u001b[0m\u001b[0m\n\u001b[0;32m----> 8\u001b[0;31m \u001b[0mstring\u001b[0m \u001b[0;34m=\u001b[0m \u001b[0mstr\u001b[0m\u001b[0;34m(\u001b[0m\u001b[0minput\u001b[0m\u001b[0;34m(\u001b[0m\u001b[0;34m\"문자열을 입력하시오 : \"\u001b[0m\u001b[0;34m)\u001b[0m\u001b[0;34m)\u001b[0m\u001b[0;34m\u001b[0m\u001b[0;34m\u001b[0m\u001b[0m\n\u001b[0m\u001b[1;32m      9\u001b[0m \u001b[0mprint\u001b[0m\u001b[0;34m(\u001b[0m\u001b[0mstring\u001b[0m\u001b[0;34m*\u001b[0m\u001b[0;36m10\u001b[0m\u001b[0;34m)\u001b[0m\u001b[0;34m\u001b[0m\u001b[0;34m\u001b[0m\u001b[0m\n\u001b[1;32m     10\u001b[0m \u001b[0;34m\u001b[0m\u001b[0m\n",
            "\u001b[0;32m/usr/local/lib/python3.10/dist-packages/ipykernel/kernelbase.py\u001b[0m in \u001b[0;36mraw_input\u001b[0;34m(self, prompt)\u001b[0m\n\u001b[1;32m    849\u001b[0m                 \u001b[0;34m\"raw_input was called, but this frontend does not support input requests.\"\u001b[0m\u001b[0;34m\u001b[0m\u001b[0;34m\u001b[0m\u001b[0m\n\u001b[1;32m    850\u001b[0m             )\n\u001b[0;32m--> 851\u001b[0;31m         return self._input_request(str(prompt),\n\u001b[0m\u001b[1;32m    852\u001b[0m             \u001b[0mself\u001b[0m\u001b[0;34m.\u001b[0m\u001b[0m_parent_ident\u001b[0m\u001b[0;34m,\u001b[0m\u001b[0;34m\u001b[0m\u001b[0;34m\u001b[0m\u001b[0m\n\u001b[1;32m    853\u001b[0m             \u001b[0mself\u001b[0m\u001b[0;34m.\u001b[0m\u001b[0m_parent_header\u001b[0m\u001b[0;34m,\u001b[0m\u001b[0;34m\u001b[0m\u001b[0;34m\u001b[0m\u001b[0m\n",
            "\u001b[0;32m/usr/local/lib/python3.10/dist-packages/ipykernel/kernelbase.py\u001b[0m in \u001b[0;36m_input_request\u001b[0;34m(self, prompt, ident, parent, password)\u001b[0m\n\u001b[1;32m    893\u001b[0m             \u001b[0;32mexcept\u001b[0m \u001b[0mKeyboardInterrupt\u001b[0m\u001b[0;34m:\u001b[0m\u001b[0;34m\u001b[0m\u001b[0;34m\u001b[0m\u001b[0m\n\u001b[1;32m    894\u001b[0m                 \u001b[0;31m# re-raise KeyboardInterrupt, to truncate traceback\u001b[0m\u001b[0;34m\u001b[0m\u001b[0;34m\u001b[0m\u001b[0m\n\u001b[0;32m--> 895\u001b[0;31m                 \u001b[0;32mraise\u001b[0m \u001b[0mKeyboardInterrupt\u001b[0m\u001b[0;34m(\u001b[0m\u001b[0;34m\"Interrupted by user\"\u001b[0m\u001b[0;34m)\u001b[0m \u001b[0;32mfrom\u001b[0m \u001b[0;32mNone\u001b[0m\u001b[0;34m\u001b[0m\u001b[0;34m\u001b[0m\u001b[0m\n\u001b[0m\u001b[1;32m    896\u001b[0m             \u001b[0;32mexcept\u001b[0m \u001b[0mException\u001b[0m \u001b[0;32mas\u001b[0m \u001b[0me\u001b[0m\u001b[0;34m:\u001b[0m\u001b[0;34m\u001b[0m\u001b[0;34m\u001b[0m\u001b[0m\n\u001b[1;32m    897\u001b[0m                 \u001b[0mself\u001b[0m\u001b[0;34m.\u001b[0m\u001b[0mlog\u001b[0m\u001b[0;34m.\u001b[0m\u001b[0mwarning\u001b[0m\u001b[0;34m(\u001b[0m\u001b[0;34m\"Invalid Message:\"\u001b[0m\u001b[0;34m,\u001b[0m \u001b[0mexc_info\u001b[0m\u001b[0;34m=\u001b[0m\u001b[0;32mTrue\u001b[0m\u001b[0;34m)\u001b[0m\u001b[0;34m\u001b[0m\u001b[0;34m\u001b[0m\u001b[0m\n",
            "\u001b[0;31mKeyboardInterrupt\u001b[0m: Interrupted by user"
          ]
        }
      ]
    },
    {
      "cell_type": "code",
      "source": [
        "# 문자열을 10번 반복\n",
        "s = str(input(\"문자열을 입력하시오 : \"))\n",
        "print(s * 10)"
      ],
      "metadata": {
        "id": "beNFOyWmT1W0"
      },
      "execution_count": null,
      "outputs": []
    },
    {
      "cell_type": "code",
      "source": [
        "# 문자열의 첫 3문자 출력\n",
        "s = str(input(\"문자열을 입력하시오 : \"))\n",
        "print(s[:3:])"
      ],
      "metadata": {
        "id": "kzCgha0zT2nN"
      },
      "execution_count": null,
      "outputs": []
    },
    {
      "cell_type": "code",
      "source": [
        "# 문자열이 마지막 3 문자 출력\n",
        "s = str(input(\"문자열을 입력하시오 : \"))\n",
        "print(s[:-4:-1])"
      ],
      "metadata": {
        "id": "XZPcX3iZT4N-"
      },
      "execution_count": null,
      "outputs": []
    },
    {
      "cell_type": "code",
      "source": [
        "# 문자열의 문자를 거꾸로 출력\n",
        "s = str(input(\"문자열을 입력하시오 : \"))\n",
        "print(s[::-1])"
      ],
      "metadata": {
        "id": "-bI-Jwi3T6HC"
      },
      "execution_count": null,
      "outputs": []
    },
    {
      "cell_type": "code",
      "source": [
        "# 7번째 문자가 있으면 출력 없으면 문자가 없습니다 메세지를 출력\n",
        "s = str(input(\"문자열을 입력하시오 : \"))\n",
        "if len(s) >= 7 :\n",
        "  print(s[6])\n",
        "else :\n",
        "  print(\"문자가 없습니다\")"
      ],
      "metadata": {
        "id": "c6MG5zGgT7iQ"
      },
      "execution_count": null,
      "outputs": []
    },
    {
      "cell_type": "code",
      "source": [
        "# 문자열에서 첫번째 문자와 마지막 문자를 제거한 문자열 출력\n",
        "s = str(input(\"문자열을 입력하시오 : \"))\n",
        "print(s[1:-1:]"
      ],
      "metadata": {
        "id": "dyASeeggT9Jy"
      },
      "execution_count": null,
      "outputs": []
    },
    {
      "cell_type": "code",
      "source": [
        "# 문자를 모두 대문자로 변경하여 출력\n",
        "s = str(input(\"문자열을 입력하시오 : \"))\n",
        "print(s.upper())"
      ],
      "metadata": {
        "id": "j8Ken545T-i2"
      },
      "execution_count": null,
      "outputs": []
    },
    {
      "cell_type": "code",
      "source": [
        "# 문자를 모두 소문자로 변경하여 출력\n",
        "s = str(input(\"문자열을 입력하시오 : \"))\n",
        "print(s.lower())"
      ],
      "metadata": {
        "id": "hw_FWyVNT_-X"
      },
      "execution_count": null,
      "outputs": []
    },
    {
      "cell_type": "code",
      "source": [
        "# 문자열에서 'a'를 'e'로 변경여 출력\n",
        "s = str(input(\"문자열을 입력하시오 : \"))\n",
        "print(s.replace(\"a\", 'e'))"
      ],
      "metadata": {
        "id": "rUPlb_hwUBcn"
      },
      "execution_count": null,
      "outputs": []
    },
    {
      "cell_type": "code",
      "source": [
        "# 문자열 처음 문자를 출력\n",
        "s = str(input(\"문자열을 입력하시오 : \"))\n",
        "print(s[0])"
      ],
      "metadata": {
        "id": "exZGJ6L1UC3H"
      },
      "execution_count": null,
      "outputs": []
    },
    {
      "cell_type": "code",
      "source": [
        "# 문자 a가 들어가는 단어를 키보드에서 입력받아 첫번째 줄에는 a까지의 문자열, 두번째 줄에는 나머지 문자열 출력\n",
        "string = str(input(\"문자열을 입력하시오 : \"))\n",
        "# index = string.find(\"a\")\n",
        "# print(string[0:index + 1])\n",
        "# print(string[index + 1:])\n",
        "\n",
        "print(string.replace(\"a\", \"a\\n\"))\n",
        "\n",
        "sp = string.split(\"a\")\n",
        "print(sp)\n",
        "print(\"a\\n\".join(sp)) # sp + a\\n"
      ],
      "metadata": {
        "colab": {
          "base_uri": "https://localhost:8080/"
        },
        "id": "P8FaRGjIB9BO",
        "outputId": "f08ca8d5-77b4-4e2e-d510-2f218a229514"
      },
      "execution_count": null,
      "outputs": [
        {
          "output_type": "stream",
          "name": "stdout",
          "text": [
            "문자열을 입력하시오 : dfesasfesasafe\n",
            "dfesa\n",
            "sfesa\n",
            "sa\n",
            "fe\n",
            "['dfes', 'sfes', 's', 'fe']\n",
            "dfesa\n",
            "sfesa\n",
            "sa\n",
            "fe\n"
          ]
        }
      ]
    },
    {
      "cell_type": "code",
      "source": [
        "# 리스트 컴프리헨션 - 1~10 중에서 짝수만 포함하는 리스트 생성\n",
        "even = [i for i in range(1,11) if i % 2 == 0]\n",
        "print(even)"
      ],
      "metadata": {
        "id": "V-Bs-7z_UNG4"
      },
      "execution_count": null,
      "outputs": []
    },
    {
      "cell_type": "code",
      "source": [
        "# 리스트 내 문자열이 길이를 구하는 예제\n",
        "fruits = ['apple', 'cherry', 'banana', 'kiwi']\n",
        "print([len(i) for i in fruits])"
      ],
      "metadata": {
        "colab": {
          "base_uri": "https://localhost:8080/"
        },
        "id": "HfrG2A49Eg4z",
        "outputId": "dad1c3d0-7a9a-41f4-fa61-1f98f6bb7c6d"
      },
      "execution_count": null,
      "outputs": [
        {
          "output_type": "stream",
          "name": "stdout",
          "text": [
            "15\n",
            "55\n"
          ]
        }
      ]
    },
    {
      "cell_type": "code",
      "source": [
        "# 1부터 10까지의 숫자 중에 짝수만 포함하는 리스트 생성\n",
        "# [표현식 for 항목 in 반복가능객체 if 조건문]\n",
        "[num for num in range(1,11) if num % 2 == 0]\n",
        "\n",
        "# 1부터 10까지의 숫자 중에 짝수만 뽑아 거기에 더하기 1을 한 값들을 원소로 가지는 리스트 생성\n",
        "[num + 1 for num in range(1,11) if num % 2 == 0]\n",
        "\n",
        "# 1부터 10까지의 숫자 중에 짝수를 뽑아 그 수의 제곱들을 원소로 가지는 리스트 생성\n",
        "[num ** 2 for num in range(1,11) if num % 2 == 0]"
      ],
      "metadata": {
        "colab": {
          "base_uri": "https://localhost:8080/"
        },
        "id": "5o-M5eumJ0cW",
        "outputId": "aa29462b-3ff1-4218-ab7b-7af00fdb987e"
      },
      "execution_count": null,
      "outputs": [
        {
          "output_type": "execute_result",
          "data": {
            "text/plain": [
              "[4, 16, 36, 64, 100]"
            ]
          },
          "metadata": {},
          "execution_count": 78
        }
      ]
    },
    {
      "cell_type": "code",
      "source": [
        "# 리스트 내 모든 요소에 1을 더하는 예제\n",
        "origion_list = [1,2,3,4,5]\n",
        "print([i+1 for i in origion_list])\n",
        "print([i+1 for i in [1,2,3,4,5]])"
      ],
      "metadata": {
        "colab": {
          "base_uri": "https://localhost:8080/"
        },
        "id": "MzrdZau7K0uJ",
        "outputId": "db2412c5-4cc6-47ae-fa0f-da97c1231534"
      },
      "execution_count": null,
      "outputs": [
        {
          "output_type": "stream",
          "name": "stdout",
          "text": [
            "[2, 3, 4, 5, 6]\n",
            "[2, 3, 4, 5, 6]\n"
          ]
        }
      ]
    },
    {
      "cell_type": "code",
      "source": [
        "# 리스트의 원소의 길이가 6 이상인 원소만 가지기\n",
        "words = [\"apple\", \"banana\", \"cherry\", \"durian\", \"watermelon\"]\n",
        "word_len = [i for i in words if len(i) >= 6]\n",
        "print(word_len)"
      ],
      "metadata": {
        "colab": {
          "base_uri": "https://localhost:8080/"
        },
        "id": "fHcUE32-Lcn1",
        "outputId": "a1f9c17f-bdcf-476b-b3e0-b5afb6c1ae86"
      },
      "execution_count": null,
      "outputs": [
        {
          "output_type": "stream",
          "name": "stdout",
          "text": [
            "['banana', 'cherry', 'durian', 'watermelo']\n"
          ]
        }
      ]
    },
    {
      "cell_type": "code",
      "source": [
        "# 문자열 리스트에서 길이가 6 이상인 문자열만 대문자로 바꾸기\n",
        "words = ['apple', 'banana', 'cherry', 'grape', 'watermelon']\n",
        "result = [i.upper() for i in words if len(i) >= 6 ]\n",
        "print(result)"
      ],
      "metadata": {
        "colab": {
          "base_uri": "https://localhost:8080/"
        },
        "id": "VtM4CRYlMlAz",
        "outputId": "1caaf6ba-4489-4903-dc8f-9c0ca5468f0b"
      },
      "execution_count": null,
      "outputs": [
        {
          "output_type": "stream",
          "name": "stdout",
          "text": [
            "['BANANA', 'CHERRY', 'WATERMELON']\n"
          ]
        }
      ]
    },
    {
      "cell_type": "code",
      "source": [
        "# 문자열 리스트에서 길이가 5 이상인 문자열만 대문자로 바꾸기\n",
        "fruits = ['apple', 'cherry', 'banana', 'kiwi']\n",
        "print([i.upper() for i in fruits if len(i) >= 5])"
      ],
      "metadata": {
        "id": "huMWPKRuUbIb"
      },
      "execution_count": null,
      "outputs": []
    },
    {
      "cell_type": "code",
      "source": [
        "# 문자열 리스트에서 길이가 5이상인 문자열만 원소로 가지는 리스트 생성\n",
        "words = [\"apple\", \"banana\", \"cherry\", \"durian\"]\n",
        "words_len_5 = [i for i in words if len(words) >= 5]"
      ],
      "metadata": {
        "id": "E8hbgm48L3jZ"
      },
      "execution_count": null,
      "outputs": []
    },
    {
      "cell_type": "code",
      "source": [
        "list(range(1,10))\n",
        "\n",
        "s = [1,2,3,4,5]\n",
        "print(list(reversed(s)))\n"
      ],
      "metadata": {
        "id": "zIinq9SDNYdd",
        "colab": {
          "base_uri": "https://localhost:8080/"
        },
        "outputId": "e3a30fbf-fdce-4270-f7da-4b0354b29895"
      },
      "execution_count": null,
      "outputs": [
        {
          "output_type": "stream",
          "name": "stdout",
          "text": [
            "[5, 4, 3, 2, 1]\n"
          ]
        }
      ]
    },
    {
      "cell_type": "code",
      "source": [
        "# 3명 이상 친구이름 리스트를 작성하고 다음 내용 프로그램\n",
        "'''\n",
        "insert()로 맨 앞에 새로운 친구 이름 추가\n",
        "insert()로 3번째 위치에 새로운 친구 이름 추가\n",
        "append()로 마지막에 친구 추가\n",
        "'''\n",
        "\n",
        "friends = ['kim', 'park','hwang']\n",
        "friends.insert(0, 'lee')\n",
        "friends.insert(2, 'cho')\n",
        "friends.append('bu')\n",
        "print(friends))"
      ],
      "metadata": {
        "colab": {
          "base_uri": "https://localhost:8080/"
        },
        "id": "861bkrtoQKjs",
        "outputId": "19816db9-874a-486a-a8ce-f94ca39a8a87"
      },
      "execution_count": null,
      "outputs": [
        {
          "output_type": "stream",
          "name": "stdout",
          "text": [
            "['강감찬', '홍길동', '세종대왕', '이순신', '김유신', '광개토대왕']\n"
          ]
        }
      ]
    },
    {
      "cell_type": "code",
      "source": [
        "# 리스트 [1,2,3]에 대해 다음과 같은 처리\n",
        "'''\n",
        "두번째 요소를 17로 수정\n",
        "리스트에 4,5,6 추가\n",
        "첫번째 요소 제거\n",
        "리스트 요소 순서대로 배욜\n",
        "인덱스 3에 25 넣기\n",
        ">>  3 4 5 25 17\n",
        "'''\n",
        "list = [1, 2, 3]\n",
        "list[1] = 17\n",
        "list = list + [4, 5, 6]\n",
        "del list[0]\n",
        "list = sorted(list)\n",
        "list.insert(3, 25)\n",
        "print(list)"
      ],
      "metadata": {
        "colab": {
          "base_uri": "https://localhost:8080/",
          "height": 276
        },
        "id": "zOmzp-ShRBBL",
        "outputId": "d3fdf014-543d-4b15-edb2-0d52c241c881"
      },
      "execution_count": null,
      "outputs": [
        {
          "output_type": "stream",
          "name": "stdout",
          "text": [
            "1\n"
          ]
        },
        {
          "output_type": "error",
          "ename": "TypeError",
          "evalue": "ignored",
          "traceback": [
            "\u001b[0;31m---------------------------------------------------------------------------\u001b[0m",
            "\u001b[0;31mTypeError\u001b[0m                                 Traceback (most recent call last)",
            "\u001b[0;32m<ipython-input-122-4c21dc2f26d8>\u001b[0m in \u001b[0;36m<cell line: 16>\u001b[0;34m()\u001b[0m\n\u001b[1;32m     14\u001b[0m \u001b[0mprint\u001b[0m\u001b[0;34m(\u001b[0m\u001b[0mlist\u001b[0m\u001b[0;34m)\u001b[0m\u001b[0;34m\u001b[0m\u001b[0;34m\u001b[0m\u001b[0m\n\u001b[1;32m     15\u001b[0m \u001b[0;34m\u001b[0m\u001b[0m\n\u001b[0;32m---> 16\u001b[0;31m \u001b[0mlist\u001b[0m \u001b[0;34m=\u001b[0m \u001b[0msorted\u001b[0m\u001b[0;34m(\u001b[0m\u001b[0mlist\u001b[0m\u001b[0;34m)\u001b[0m\u001b[0;34m\u001b[0m\u001b[0;34m\u001b[0m\u001b[0m\n\u001b[0m\u001b[1;32m     17\u001b[0m \u001b[0mlist\u001b[0m\u001b[0;34m.\u001b[0m\u001b[0minsert\u001b[0m\u001b[0;34m(\u001b[0m\u001b[0;36m3\u001b[0m\u001b[0;34m,\u001b[0m\u001b[0;36m25\u001b[0m\u001b[0;34m)\u001b[0m\u001b[0;34m\u001b[0m\u001b[0;34m\u001b[0m\u001b[0m\n\u001b[1;32m     18\u001b[0m \u001b[0mprint\u001b[0m\u001b[0;34m(\u001b[0m\u001b[0mlist\u001b[0m\u001b[0;34m)\u001b[0m\u001b[0;34m\u001b[0m\u001b[0;34m\u001b[0m\u001b[0m\n",
            "\u001b[0;31mTypeError\u001b[0m: 'int' object is not iterable"
          ]
        }
      ]
    },
    {
      "cell_type": "code",
      "source": [
        "# 0-~49까지의 수로 구성되는 리스트\n",
        "list_49 = [i for i in range(0,50)]\n",
        "print(list_49)\n",
        "\n",
        "# 1~50까지의 수의 제곱으로 구성되는 리스트\n",
        "list_50 = [i**2 for i in range(1, 51)]\n",
        "print(list_50)"
      ],
      "metadata": {
        "colab": {
          "base_uri": "https://localhost:8080/",
          "height": 202
        },
        "id": "boI4291mSWM8",
        "outputId": "f19399f2-9e25-46e1-81fe-0229d6a188e3"
      },
      "execution_count": null,
      "outputs": [
        {
          "output_type": "error",
          "ename": "TypeError",
          "evalue": "ignored",
          "traceback": [
            "\u001b[0;31m---------------------------------------------------------------------------\u001b[0m",
            "\u001b[0;31mTypeError\u001b[0m                                 Traceback (most recent call last)",
            "\u001b[0;32m<ipython-input-113-08c5da7f5572>\u001b[0m in \u001b[0;36m<cell line: 1>\u001b[0;34m()\u001b[0m\n\u001b[0;32m----> 1\u001b[0;31m \u001b[0mprint\u001b[0m\u001b[0;34m(\u001b[0m\u001b[0mlist\u001b[0m\u001b[0;34m(\u001b[0m\u001b[0mrange\u001b[0m\u001b[0;34m(\u001b[0m\u001b[0;36m0\u001b[0m\u001b[0;34m,\u001b[0m\u001b[0;36m50\u001b[0m\u001b[0;34m)\u001b[0m\u001b[0;34m)\u001b[0m\u001b[0;34m)\u001b[0m\u001b[0;34m\u001b[0m\u001b[0;34m\u001b[0m\u001b[0m\n\u001b[0m\u001b[1;32m      2\u001b[0m \u001b[0mprint\u001b[0m\u001b[0;34m(\u001b[0m\u001b[0;34m[\u001b[0m\u001b[0mnum\u001b[0m\u001b[0;34m**\u001b[0m\u001b[0;36m2\u001b[0m \u001b[0;32mfor\u001b[0m \u001b[0mnum\u001b[0m \u001b[0;32min\u001b[0m \u001b[0mrange\u001b[0m\u001b[0;34m(\u001b[0m\u001b[0;36m1\u001b[0m\u001b[0;34m,\u001b[0m\u001b[0;36m51\u001b[0m\u001b[0;34m)\u001b[0m\u001b[0;34m]\u001b[0m\u001b[0;34m)\u001b[0m\u001b[0;34m\u001b[0m\u001b[0;34m\u001b[0m\u001b[0m\n",
            "\u001b[0;31mTypeError\u001b[0m: 'list' object is not callable"
          ]
        }
      ]
    },
    {
      "cell_type": "code",
      "source": [
        "# 두개의 리스트 L,M을 생성하고 두 리스트의 각 요소의 합으로 구성되는 새로운 리스트 생성\n",
        "L = [1, 2, 3]\n",
        "M = [4, 5, 6]\n",
        "k = []\n",
        "for i in range(0, len(L)) :\n",
        "  k.append(L[i] + M[i])\n",
        "print(k)"
      ],
      "metadata": {
        "colab": {
          "base_uri": "https://localhost:8080/"
        },
        "id": "OoCeIEV_SvzJ",
        "outputId": "868ce467-9aef-4c0d-a38d-9bc80ccbc7b9"
      },
      "execution_count": null,
      "outputs": [
        {
          "output_type": "stream",
          "name": "stdout",
          "text": [
            "[5, 7, 9]\n"
          ]
        }
      ]
    },
    {
      "cell_type": "code",
      "source": [
        "# 사용자로부터 5개의 숫자를 문자열로 입력 받아 각 숫자를 +로 연결한 문자열을 생성\n",
        "connect = \"\"\n",
        "for i in range(5) :\n",
        "  s = str(input(\"숫자를 입력하라 :\"))\n",
        "  connect = connect + '+' + s\n",
        "print(connect[1::])"
      ],
      "metadata": {
        "id": "4NEP4TjnUnVp"
      },
      "execution_count": null,
      "outputs": []
    }
  ]
}